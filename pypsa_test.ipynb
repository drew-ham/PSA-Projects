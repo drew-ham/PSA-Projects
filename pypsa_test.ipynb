{
 "cells": [
  {
   "cell_type": "code",
   "execution_count": 3,
   "id": "185c520a",
   "metadata": {},
   "outputs": [
    {
     "name": "stdout",
     "output_type": "stream",
     "text": [
      "Note: you may need to restart the kernel to use updated packages.\n"
     ]
    }
   ],
   "source": [
    "%pip install -qq pypsa"
   ]
  },
  {
   "cell_type": "code",
   "execution_count": 5,
   "id": "46c5af31",
   "metadata": {},
   "outputs": [],
   "source": [
    "import pypsa as psa\n",
    "\n",
    "n = psa.Network()\n"
   ]
  },
  {
   "cell_type": "code",
   "execution_count": null,
   "id": "f0a4464a",
   "metadata": {},
   "outputs": [],
   "source": []
  }
 ],
 "metadata": {
  "kernelspec": {
   "display_name": "Python 3",
   "language": "python",
   "name": "python3"
  },
  "language_info": {
   "codemirror_mode": {
    "name": "ipython",
    "version": 3
   },
   "file_extension": ".py",
   "mimetype": "text/x-python",
   "name": "python",
   "nbconvert_exporter": "python",
   "pygments_lexer": "ipython3",
   "version": "3.11.9"
  }
 },
 "nbformat": 4,
 "nbformat_minor": 5
}
